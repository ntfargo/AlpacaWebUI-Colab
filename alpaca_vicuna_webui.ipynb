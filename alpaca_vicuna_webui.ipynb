{
  "cells": [
    {
      "cell_type": "code",
      "execution_count": null,
      "metadata": {
        "id": "oWIEIapOAstd"
      },
      "outputs": [],
      "source": [
        "import os\n",
        "from google.colab import drive\n",
        "\n",
        "# Mount Google Drive\n",
        "drive.mount('/content/drive')\n",
        "\n",
        "# Clone the text-generation-webui repository\n",
        "!git clone -b v1.0 https://github.com/camenduru/text-generation-webui\n",
        "\n",
        "# Install requirements\n",
        "%cd /content/text-generation-webui\n",
        "!pip install -r requirements.txt\n",
        "\n",
        "# Clone the GPTQ-for-LLaMa repository and install it\n",
        "!mkdir /content/text-generation-webui/repositories\n",
        "%cd /content/text-generation-webui/repositories\n",
        "!git clone -b v1.0 https://github.com/camenduru/GPTQ-for-LLaMa.git\n",
        "%cd GPTQ-for-LLaMa\n",
        "!python setup_cuda.py install\n",
        "\n",
        "# Move text-generation-webui to Google Drive\n",
        "drive_folder = '/content/drive/MyDrive/text-generation-webui'\n",
        "if not os.path.exists(drive_folder):\n",
        "    os.makedirs(drive_folder)\n",
        "!mv /content/text-generation-webui/* \"$drive_folder/\""
      ]
    },
    {
      "cell_type": "code",
      "execution_count": null,
      "metadata": {
        "id": "eEGdDI1SED4j"
      },
      "outputs": [],
      "source": [
        "!apt-get -y install -qq aria2"
      ]
    },
    {
      "cell_type": "code",
      "execution_count": null,
      "metadata": {
        "id": "mht9fpviBonB"
      },
      "outputs": [],
      "source": [
        "import subprocess\n",
        "\n",
        "def download_file(url, path, filename):\n",
        "    command = f\"aria2c --console-log-level=error -c -x 16 -s 16 -k 1M {url} -d {path} -o {filename}\"\n",
        "    print(f\"Downloading {filename}...\")\n",
        "    subprocess.run(command, shell=True)\n",
        "    print(f\"{filename} downloaded successfully.\")\n",
        " \n",
        "# Model Uploader \"CUDA\" https://huggingface.co/4bit @ https://github.com/camenduru\n",
        "\n",
        "model = \"alpaca\"  # Set this to \"vicuna\" to select the vicuna model\n",
        "if model == \"alpaca\":\n",
        "    base_url = \"https://huggingface.co/4bit/gpt4-x-alpaca-13b-native-4bit-128g-cuda\"\n",
        "    safetensors = \"4bit-128g.safetensors\"\n",
        "elif model == \"vicuna\":\n",
        "    base_url = \"https://huggingface.co/4bit/vicuna-13b-GPTQ-4bit-128g\"\n",
        "    safetensors = \"vicuna-13b-4bit-128g.safetensors\"\n",
        "else:\n",
        "    raise ValueError(\"Invalid model selected\")\n",
        "\n",
        "base_path = \"/content/drive/MyDrive/text-generation-webui/models/gpt4-x-\" + model + \"-13b-native-4bit-128g\"\n",
        "\n",
        "download_file(f\"{base_url}/raw/main/config.json\", base_path, \"config.json\")\n",
        "download_file(f\"{base_url}/raw/main/generation_config.json\", base_path, \"generation_config.json\")\n",
        "download_file(f\"{base_url}/raw/main/special_tokens_map.json\", base_path, \"special_tokens_map.json\")\n",
        "download_file(f\"{base_url}/resolve/main/tokenizer.model\", base_path, \"tokenizer.model\")\n",
        "download_file(f\"{base_url}/raw/main/tokenizer_config.json\", base_path, \"tokenizer_config.json\")\n",
        "download_file(f\"{base_url}/resolve/main/{safetensors}\", base_path, safetensors)"
      ]
    },
    {
      "cell_type": "code",
      "execution_count": null,
      "metadata": {
        "id": "d6wImL9xIOPA"
      },
      "outputs": [],
      "source": [
        "import os\n",
        " \n",
        "auth_token_path = \"/content/drive/MyDrive/text-generation-webui/auth_token.txt\"\n",
        " \n",
        "# Set your username and password here (or use the default)\n",
        "user = \"username\" \n",
        "password = \"password\"\n",
        " \n",
        "with open(auth_token_path, \"w\") as f:\n",
        "    f.write(f\"{user}:{password}\")\n",
        " \n",
        "if os.path.exists(auth_token_path):\n",
        "    print(\"auth_token.txt created successfully.\")\n",
        "else:\n",
        "    print(\"Error creating auth_token.txt.\")\n"
      ]
    },
    {
      "cell_type": "code",
      "execution_count": null,
      "metadata": {
        "id": "Q1157a1yBpq4"
      },
      "outputs": [],
      "source": [
        "%cd /content/drive/MyDrive/text-generation-webui\n",
        "!python server.py --share --chat --wbits 4 --groupsize 128 --gradio-auth-path auth_token.txt"
      ]
    }
  ],
  "metadata": {
    "accelerator": "GPU",
    "colab": {
      "provenance": []
    },
    "gpuClass": "standard",
    "kernelspec": {
      "display_name": "Python 3",
      "name": "python3"
    },
    "language_info": {
      "name": "python"
    }
  },
  "nbformat": 4,
  "nbformat_minor": 0
}
